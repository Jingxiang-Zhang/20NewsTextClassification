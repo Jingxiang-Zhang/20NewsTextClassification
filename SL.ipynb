{
 "cells": [
  {
   "cell_type": "code",
   "execution_count": 1,
   "id": "49fd44fe",
   "metadata": {},
   "outputs": [],
   "source": [
    "import numpy as np\n",
    "import load_data\n",
    "import scipy\n",
    "import time\n",
    "import pandas as pd\n",
    "import statistic\n",
    "import os\n",
    "from joblib import dump, load"
   ]
  },
  {
   "cell_type": "markdown",
   "id": "48817474",
   "metadata": {},
   "source": [
    "###### read data"
   ]
  },
  {
   "cell_type": "code",
   "execution_count": 2,
   "id": "6eb8e37f",
   "metadata": {},
   "outputs": [],
   "source": [
    "map_label = load_data.read_map(load_data.test_map_path)\n",
    "origin_train_data, origin_train_label = load_data.read_data(load_data.train_data_path, load_data.train_label_path)\n",
    "origin_test_data, origin_test_label = load_data.read_data(load_data.test_data_path, load_data.test_label_path)\n",
    "words_list = load_data.read_words(load_data.vocabulary_path)"
   ]
  },
  {
   "cell_type": "markdown",
   "id": "5d477daa",
   "metadata": {},
   "source": [
    "###### separate the training set into training set and validation set"
   ]
  },
  {
   "cell_type": "code",
   "execution_count": 3,
   "id": "f7799e36",
   "metadata": {},
   "outputs": [],
   "source": [
    "train_data, train_label, val_data, val_label = load_data.spearate(origin_train_data, origin_train_label)"
   ]
  },
  {
   "cell_type": "markdown",
   "id": "7ce8a2a6",
   "metadata": {},
   "source": [
    "###### show one data"
   ]
  },
  {
   "cell_type": "code",
   "execution_count": 4,
   "id": "2100844e",
   "metadata": {},
   "outputs": [
    {
     "name": "stdout",
     "output_type": "stream",
     "text": [
      "data label: sci.space\n",
      "of:10 and:6 other:1 the:18 in:5 to:8 it:4 on:3 but:3 is:4 people:5 get:1 com:2 for:1 one:3 by:2 based:1 an:1 be:2 they:2 that:4 all:1 this:3 use:1 many:1 at:1 very:1 he:1 rather:1 had:1 as:6 man:1 right:2 only:1 work:2 also:2 number:2 think:1 was:2 were:1 through:2 those:1 compared:1 hand:2 not:1 mind:1 article:1 edu:1 writes:1 could:2 did:1 things:2 put:1 together:1 just:1 much:1 simply:1 no:1 little:1 out:1 keep:1 same:1 ve:1 how:1 before:2 account:1 result:1 yet:1 during:2 basically:1 cited:1 considered:1 gets:1 given:1 none:1 whole:1 bad:1 problem:1 correct:1 nowhere:1 process:2 pre:1 feel:1 got:1 noted:1 level:3 apr:1 give:1 tools:2 hard:1 major:2 hundreds:1 lot:1 mentioned:1 care:2 force:1 cut:1 runs:1 ignorance:1 effort:1 pressure:1 rated:1 heard:1 among:1 attack:1 fred:3 loving:1 worked:1 development:1 starting:1 zoo:1 typically:1 mostly:1 exemplary:1 near:1 simulations:2 counted:1 afford:1 elsewhere:1 failures:2 sophisticated:2 experiments:1 zero:1 failure:2 engine:1 hadn:1 nearly:1 applies:1 software:7 henry:3 achieved:1 tender:1 brute:1 threw:1 ti:2 management:1 toronto:2 flight:4 simulation:1 spencer:1 shuttle:1 feynman:2 inaccurate:1 corners:1 challenger:2 utzoo:1 dseg:2 mksol:2 mccall:2 zoology:1 kipling:1 experimenters:2 standdown:2 painstaking:1 "
     ]
    }
   ],
   "source": [
    "load_data.show_data(train_data[1], words_list, train_label[1], map_label)"
   ]
  },
  {
   "cell_type": "markdown",
   "id": "93abd104",
   "metadata": {},
   "source": [
    "###### statistic method before training"
   ]
  },
  {
   "cell_type": "markdown",
   "id": "86b7a9fa",
   "metadata": {},
   "source": [
    "###### 0. baseline"
   ]
  },
  {
   "cell_type": "code",
   "execution_count": 5,
   "id": "7ae31c45",
   "metadata": {},
   "outputs": [
    {
     "name": "stdout",
     "output_type": "stream",
     "text": [
      "accuracy on train set is: 0.054\n",
      "accuracy on validation set is: 0.049\n"
     ]
    }
   ],
   "source": [
    "def baseline_train(name):\n",
    "    label_number = list()\n",
    "    for i in range(1, 21):\n",
    "        label_number.append(np.sum(i == train_label))\n",
    "    predict_label = np.argmax(label_number) + 1\n",
    "    train_prediction = np.ones(shape=(len(train_label))) * predict_label\n",
    "    \n",
    "    train_accuracy = np.sum(train_prediction == train_label) / len(train_label)\n",
    "    print(\"accuracy on train set is: {:.3f}\".format(train_accuracy))\n",
    "    ratio_list = statistic.compare_prediction(train_prediction, train_label)\n",
    "    statistic.save_to_file(name, ratio_list, train_accuracy, map_label.values(), \"train.xlsx\")\n",
    "    \n",
    "    val_prediction = np.ones(shape=(len(val_label))) * predict_label\n",
    "    val_accuracy = np.sum(val_prediction == val_label) / len(val_label)\n",
    "    print(\"accuracy on validation set is: {:.3f}\".format(val_accuracy))\n",
    "    ratio_list = statistic.compare_prediction(val_prediction, val_label)\n",
    "    statistic.save_to_file(name, ratio_list, val_accuracy, map_label.values(), \"validation.xlsx\")\n",
    "\n",
    "baseline_train(\"trivial\")"
   ]
  },
  {
   "cell_type": "markdown",
   "id": "6ffde7dd",
   "metadata": {},
   "source": [
    "###### 1. SVM\n",
    "\n",
    "SVM classifier document: https://scikit-learn.org/stable/modules/generated/sklearn.svm.SVC.html"
   ]
  },
  {
   "cell_type": "markdown",
   "id": "cdb18c69",
   "metadata": {},
   "source": [
    "train on training set with linear kernel"
   ]
  },
  {
   "cell_type": "code",
   "execution_count": 22,
   "id": "323c6ea2",
   "metadata": {},
   "outputs": [],
   "source": [
    "from sklearn.svm import SVC\n",
    "\n",
    "def SVM_train(name, **kwargs):\n",
    "    \"\"\"\n",
    "    test for one SVM method\n",
    "    \"\"\"\n",
    "    train_data_matrix = load_data.to_scipy_sparse_matrix(train_data, len(words_list)+1)\n",
    "    svc = SVC(**kwargs)\n",
    "    model_path = \"model/SL/\"+name+\".joblib\"\n",
    "    if os.path.exists(model_path):\n",
    "        print(\"load \" + name + \" model\")\n",
    "        svc = load(model_path)\n",
    "        print(\"loading complete\")\n",
    "    else:\n",
    "        print(\"train \" + name + \" model\")\n",
    "        svc.fit(train_data_matrix, train_label)\n",
    "        dump(svc, model_path) \n",
    "        print(\"training complete\")\n",
    "    \n",
    "    train_prediction = svc.predict(train_data_matrix)\n",
    "    train_accuracy = np.sum(train_prediction == train_label) / len(train_label)\n",
    "    print(\"accuracy on train set is: {:.3f}\".format(train_accuracy))\n",
    "    ratio_list = statistic.compare_prediction(train_prediction, train_label)\n",
    "    statistic.save_to_file(name, ratio_list, train_accuracy, map_label.values(), \"train.xlsx\")\n",
    "    \n",
    "    val_data_matrix = load_data.to_scipy_sparse_matrix(val_data, len(words_list)+1)\n",
    "    val_prediction = svc.predict(val_data_matrix)\n",
    "    val_accuracy = np.sum(val_prediction == val_label) / len(val_label)\n",
    "    print(\"accuracy on validation set is: {:.3f}\".format(val_accuracy))\n",
    "    ratio_list = statistic.compare_prediction(val_prediction, val_label)\n",
    "    statistic.save_to_file(name, ratio_list, val_accuracy, map_label.values(), \"validation.xlsx\")"
   ]
  },
  {
   "cell_type": "code",
   "execution_count": 24,
   "id": "1c8337ad",
   "metadata": {},
   "outputs": [],
   "source": [
    "def start_SVM():\n",
    "    \"\"\"\n",
    "    test all SVM\n",
    "    \"\"\"\n",
    "    print(\"start SVM linear kernel\")\n",
    "    SVM_train(name=\"SVM_linear\", kernel=\"linear\")\n",
    "    print(\"start SVM sigmoid kernel\")\n",
    "    SVM_train(name=\"SVM_sigmoid\", kernel=\"sigmoid\")\n",
    "    print(\"start SVM RBF kernel with auto gamma = 1/features\")\n",
    "    SVM_train(name=\"SVM_RBF_auto\", kernel=\"rbf\", gamma=\"auto\")\n",
    "    print(\"start SVM RBF kernel with gamma = 0.1\")\n",
    "    SVM_train(name=\"SVM_RBF_0.1\", kernel=\"rbf\", gamma=0.1)\n",
    "    print(\"start SVM poly kernel with degree = 3\")\n",
    "    SVM_train(name=\"SVM_poly_3\", kernel=\"poly\", degree=3) "
   ]
  },
  {
   "cell_type": "code",
   "execution_count": 25,
   "id": "36eb97c7",
   "metadata": {
    "scrolled": true
   },
   "outputs": [
    {
     "name": "stdout",
     "output_type": "stream",
     "text": [
      "start SVM linear kernel\n",
      "load SVM_linear model\n",
      "loading complete\n",
      "accuracy on train set is: 0.999\n",
      "accuracy on validation set is: 0.728\n",
      "start SVM sigmoid kernel\n",
      "train SVM_sigmoid model\n",
      "training complete\n",
      "accuracy on train set is: 0.158\n",
      "accuracy on validation set is: 0.154\n",
      "start SVM RBF kernel with auto gamma = 1/features\n",
      "train SVM_RBF_auto model\n",
      "training complete\n",
      "accuracy on train set is: 0.129\n",
      "accuracy on validation set is: 0.110\n",
      "start SVM RBF kernel with gamma = 0.1\n",
      "train SVM_RBF_0.1 model\n",
      "training complete\n",
      "accuracy on train set is: 0.997\n",
      "accuracy on validation set is: 0.081\n",
      "start SVM poly kernel with degree = 3\n",
      "train SVM_poly_3 model\n",
      "training complete\n",
      "accuracy on train set is: 0.163\n",
      "accuracy on validation set is: 0.111\n"
     ]
    }
   ],
   "source": [
    "start_SVM()"
   ]
  },
  {
   "cell_type": "markdown",
   "id": "1cffc4fe",
   "metadata": {},
   "source": [
    "###### 2. Multiclass Logistic Regression\n",
    "\n",
    "Multiclass Logistic Regression: https://refactored.ai/microcourse/notebook?path=content%2F06-Classification_models_in_Machine_Learning%2F02-Multivariate_Logistic_Regression%2Fmulticlass_logistic-regression.ipynb"
   ]
  },
  {
   "cell_type": "code",
   "execution_count": 26,
   "id": "6f389d89",
   "metadata": {},
   "outputs": [],
   "source": [
    "from sklearn.linear_model import LogisticRegression\n",
    "\n",
    "def MLR_train(name, **kwargs):\n",
    "    train_data_matrix = load_data.to_scipy_sparse_matrix(train_data, len(words_list)+1)\n",
    "    mlr = LogisticRegression(**kwargs)\n",
    "    model_path = \"model/SL/\"+name+\".joblib\"\n",
    "    if os.path.exists(model_path):\n",
    "        print(\"load \" + name + \" model\")\n",
    "        mlr = load(model_path)\n",
    "        print(\"loading complete\")\n",
    "    else:\n",
    "        print(\"train \" + name + \" model\")\n",
    "        mlr.fit(train_data_matrix, train_label)\n",
    "        dump(mlr, model_path) \n",
    "        print(\"training complete\")\n",
    "    \n",
    "    train_prediction = mlr.predict(train_data_matrix)\n",
    "    train_accuracy = np.sum(train_prediction == train_label) / len(train_label)\n",
    "    print(\"accuracy on train set is: {:.3f}\".format(train_accuracy))\n",
    "    ratio_list = statistic.compare_prediction(train_prediction, train_label)\n",
    "    statistic.save_to_file(name, ratio_list, train_accuracy, map_label.values(), \"train.xlsx\")\n",
    "    \n",
    "    val_data_matrix = load_data.to_scipy_sparse_matrix(val_data, len(words_list)+1)\n",
    "    val_prediction = mlr.predict(val_data_matrix)\n",
    "    val_accuracy = np.sum(val_prediction == val_label) / len(val_label)\n",
    "    print(\"accuracy on validation set is: {:.3f}\".format(val_accuracy))\n",
    "    ratio_list = statistic.compare_prediction(val_prediction, val_label)\n",
    "    statistic.save_to_file(name, ratio_list, val_accuracy, map_label.values(), \"validation.xlsx\")"
   ]
  },
  {
   "cell_type": "code",
   "execution_count": 27,
   "id": "e825806e",
   "metadata": {},
   "outputs": [],
   "source": [
    "def start_MLR():\n",
    "    \"\"\"\n",
    "    test all MLR\n",
    "    \"\"\"\n",
    "    print(\"start MLR with one vs. rest method\")\n",
    "    MLR_train(name=\"MLR_OVR\", multi_class='ovr', max_iter=500)\n",
    "    print(\"start MLR with multinomial newton-cg\")\n",
    "    MLR_train(name=\"MLR_Multi_Newton\", multi_class='multinomial',solver='newton-cg', max_iter=500)\n",
    "    print(\"start MLR with multinomial lbfgs\")\n",
    "    MLR_train(name=\"MLR_Multi_lbfgs\", multi_class='multinomial',solver='lbfgs', max_iter=500)\n",
    "    print(\"start MLR with multinomial sag\")\n",
    "    MLR_train(name=\"MLR_Multi_sag\", multi_class='multinomial',solver='sag', max_iter=500)\n",
    "    print(\"start MLR with multinomial saga\")\n",
    "    MLR_train(name=\"MLR_Multi_saga\", multi_class='multinomial',solver='saga', max_iter=500)"
   ]
  },
  {
   "cell_type": "code",
   "execution_count": 28,
   "id": "0a9fd50d",
   "metadata": {},
   "outputs": [
    {
     "name": "stdout",
     "output_type": "stream",
     "text": [
      "start MLR with one vs. rest method\n",
      "train MLR_OVR model\n",
      "training complete\n",
      "accuracy on train set is: 0.998\n",
      "accuracy on validation set is: 0.843\n",
      "start MLR with multinomial newton-cg\n",
      "train MLR_Multi_Newton model\n",
      "training complete\n",
      "accuracy on train set is: 0.999\n",
      "accuracy on validation set is: 0.829\n",
      "start MLR with multinomial lbfgs\n",
      "train MLR_Multi_lbfgs model\n",
      "training complete\n",
      "accuracy on train set is: 0.999\n",
      "accuracy on validation set is: 0.829\n",
      "start MLR with multinomial sag\n",
      "train MLR_Multi_sag model\n"
     ]
    },
    {
     "name": "stderr",
     "output_type": "stream",
     "text": [
      "D:\\programming\\Python\\lib\\site-packages\\sklearn\\linear_model\\_sag.py:350: ConvergenceWarning: The max_iter was reached which means the coef_ did not converge\n",
      "  warnings.warn(\n"
     ]
    },
    {
     "name": "stdout",
     "output_type": "stream",
     "text": [
      "training complete\n",
      "accuracy on train set is: 0.801\n",
      "accuracy on validation set is: 0.712\n",
      "start MLR with multinomial saga\n",
      "train MLR_Multi_saga model\n"
     ]
    },
    {
     "name": "stderr",
     "output_type": "stream",
     "text": [
      "D:\\programming\\Python\\lib\\site-packages\\sklearn\\linear_model\\_sag.py:350: ConvergenceWarning: The max_iter was reached which means the coef_ did not converge\n",
      "  warnings.warn(\n"
     ]
    },
    {
     "name": "stdout",
     "output_type": "stream",
     "text": [
      "training complete\n",
      "accuracy on train set is: 0.738\n",
      "accuracy on validation set is: 0.663\n"
     ]
    }
   ],
   "source": [
    "start_MLR()"
   ]
  },
  {
   "cell_type": "markdown",
   "id": "06851b64",
   "metadata": {},
   "source": [
    "###### 3. Multinomial Naive Bayes\n"
   ]
  },
  {
   "cell_type": "code",
   "execution_count": 30,
   "id": "d15d444d",
   "metadata": {},
   "outputs": [
    {
     "name": "stdout",
     "output_type": "stream",
     "text": [
      "load Multinomial_Naive_Bayes model\n",
      "loading complete\n",
      "accuracy on train set is: 0.939\n",
      "accuracy on validation set is: 0.854\n"
     ]
    }
   ],
   "source": [
    "from sklearn.naive_bayes import MultinomialNB\n",
    "\n",
    "def MNB_train(name):\n",
    "    train_data_matrix = load_data.to_scipy_sparse_matrix(train_data, len(words_list)+1)\n",
    "    mvb = MultinomialNB()\n",
    "    model_path = \"model/SL/\"+name+\".joblib\"\n",
    "    if os.path.exists(model_path):\n",
    "        print(\"load \" + name + \" model\")\n",
    "        mvb = load(model_path)\n",
    "        print(\"loading complete\")\n",
    "    else:\n",
    "        print(\"train \" + name + \" model\")\n",
    "        mvb.fit(train_data_matrix, train_label)\n",
    "        dump(mvb, model_path) \n",
    "        print(\"training complete\")\n",
    "        \n",
    "    train_prediction = mvb.predict(train_data_matrix)\n",
    "    train_accuracy = np.sum(train_prediction == train_label) / len(train_label)\n",
    "    print(\"accuracy on train set is: {:.3f}\".format(train_accuracy))\n",
    "    ratio_list = statistic.compare_prediction(train_prediction, train_label)\n",
    "    statistic.save_to_file(name, ratio_list, train_accuracy, map_label.values(), \"train.xlsx\")\n",
    "    \n",
    "    val_data_matrix = load_data.to_scipy_sparse_matrix(val_data, len(words_list)+1)\n",
    "    val_prediction = mvb.predict(val_data_matrix)\n",
    "    val_accuracy = np.sum(val_prediction == val_label) / len(val_label)\n",
    "    print(\"accuracy on validation set is: {:.3f}\".format(val_accuracy))\n",
    "    ratio_list = statistic.compare_prediction(val_prediction, val_label)\n",
    "    statistic.save_to_file(name, ratio_list, val_accuracy, map_label.values(), \"validation.xlsx\")\n",
    "\n",
    "MNB_train(\"Multinomial_Naive_Bayes\")"
   ]
  },
  {
   "cell_type": "markdown",
   "id": "dd630160",
   "metadata": {},
   "source": [
    "###### 4. KNN"
   ]
  },
  {
   "cell_type": "code",
   "execution_count": 31,
   "id": "c1ac8495",
   "metadata": {},
   "outputs": [],
   "source": [
    "from sklearn.neighbors import KNeighborsClassifier\n",
    "\n",
    "def KNN_train(name, **kwargs):\n",
    "    train_data_matrix = load_data.to_scipy_sparse_matrix(train_data, len(words_list)+1)\n",
    "    knn = KNeighborsClassifier(**kwargs)\n",
    "    \n",
    "    model_path = \"model/SL/\"+name+\".joblib\"\n",
    "    if os.path.exists(model_path):\n",
    "        print(\"load \" + name + \" model\")\n",
    "        knn = load(model_path)\n",
    "        print(\"loading complete\")\n",
    "    else:\n",
    "        print(\"train \" + name + \" model\")\n",
    "        knn.fit(train_data_matrix, train_label)\n",
    "        dump(knn, model_path) \n",
    "        print(\"training complete\")\n",
    "    \n",
    "    train_prediction = knn.predict(train_data_matrix)\n",
    "    train_accuracy = np.sum(train_prediction == train_label) / len(train_label)\n",
    "    print(\"accuracy on train set is: {:.3f}\".format(train_accuracy))\n",
    "    ratio_list = statistic.compare_prediction(train_prediction, train_label)\n",
    "    statistic.save_to_file(name, ratio_list, train_accuracy, map_label.values(), \"train.xlsx\")\n",
    "    \n",
    "    val_data_matrix = load_data.to_scipy_sparse_matrix(val_data, len(words_list)+1)\n",
    "    val_prediction = knn.predict(val_data_matrix)\n",
    "    val_accuracy = np.sum(val_prediction == val_label) / len(val_label)\n",
    "    print(\"accuracy on validation set is: {:.3f}\".format(val_accuracy))\n",
    "    ratio_list = statistic.compare_prediction(val_prediction, val_label)\n",
    "    statistic.save_to_file(name, ratio_list, val_accuracy, map_label.values(), \"validation.xlsx\")"
   ]
  },
  {
   "cell_type": "code",
   "execution_count": 32,
   "id": "dfa97ea3",
   "metadata": {},
   "outputs": [],
   "source": [
    "def start_KNN():\n",
    "    \"\"\"\n",
    "    test all MLR\n",
    "    \"\"\"\n",
    "    print(\"start KNN neighbor = 3\")\n",
    "    KNN_train(name=\"KNN_3\", n_neighbors=3)\n",
    "    print(\"start KNN neighbor = 5\")\n",
    "    KNN_train(name=\"KNN_5\", n_neighbors=5)\n",
    "    print(\"start KNN neighbor = 7\")\n",
    "    KNN_train(name=\"KNN_7\", n_neighbors=7)\n"
   ]
  },
  {
   "cell_type": "code",
   "execution_count": 33,
   "id": "94fb73dd",
   "metadata": {},
   "outputs": [
    {
     "name": "stdout",
     "output_type": "stream",
     "text": [
      "start KNN neighbor = 3\n",
      "train KNN_3 model\n",
      "training complete\n",
      "accuracy on train set is: 0.716\n",
      "accuracy on validation set is: 0.404\n",
      "start KNN neighbor = 5\n",
      "train KNN_5 model\n",
      "training complete\n",
      "accuracy on train set is: 0.666\n",
      "accuracy on validation set is: 0.400\n",
      "start KNN neighbor = 7\n",
      "train KNN_7 model\n",
      "training complete\n",
      "accuracy on train set is: 0.627\n",
      "accuracy on validation set is: 0.391\n"
     ]
    }
   ],
   "source": [
    "start_KNN()"
   ]
  },
  {
   "cell_type": "markdown",
   "id": "f25ae0a5",
   "metadata": {},
   "source": [
    "###### 5. Decision Tree, Random Forest, and Tr Ada Boost\n",
    "\n",
    "- criterion is always \"gini\"\n",
    "- max_depth is to all the leaf is pure\n",
    "- max_feature is \"sqrt\" or default n_features"
   ]
  },
  {
   "cell_type": "code",
   "execution_count": 5,
   "id": "1d51ff19",
   "metadata": {},
   "outputs": [],
   "source": [
    "from sklearn.tree import DecisionTreeClassifier\n",
    "\n",
    "def DecisionTree_train(name, **kwargs):\n",
    "    train_data_matrix = load_data.to_scipy_sparse_matrix(train_data, len(words_list)+1)\n",
    "    dt = DecisionTreeClassifier(**kwargs)\n",
    "    \n",
    "    model_path = \"model/SL/\"+name+\".joblib\"\n",
    "    if os.path.exists(model_path):\n",
    "        print(\"load \" + name + \" model\")\n",
    "        dt = load(model_path)\n",
    "        print(\"loading complete\")\n",
    "    else:\n",
    "        print(\"train \" + name + \" model\")\n",
    "        dt.fit(train_data_matrix, train_label)\n",
    "        dump(dt, model_path) \n",
    "        print(\"training complete\")\n",
    "    \n",
    "    train_prediction = dt.predict(train_data_matrix)\n",
    "    train_accuracy = np.sum(train_prediction == train_label) / len(train_label)\n",
    "    print(\"accuracy on train set is: {:.3f}\".format(train_accuracy))\n",
    "    ratio_list = statistic.compare_prediction(train_prediction, train_label)\n",
    "    statistic.save_to_file(name, ratio_list, train_accuracy, map_label.values(), \"train.xlsx\")\n",
    "    \n",
    "    val_data_matrix = load_data.to_scipy_sparse_matrix(val_data, len(words_list)+1)\n",
    "    val_prediction = dt.predict(val_data_matrix)\n",
    "    val_accuracy = np.sum(val_prediction == val_label) / len(val_label)\n",
    "    print(\"accuracy on validation set is: {:.3f}\".format(val_accuracy))\n",
    "    ratio_list = statistic.compare_prediction(val_prediction, val_label)\n",
    "    statistic.save_to_file(name, ratio_list, val_accuracy, map_label.values(), \"validation.xlsx\")"
   ]
  },
  {
   "cell_type": "code",
   "execution_count": 35,
   "id": "d01ff934",
   "metadata": {},
   "outputs": [],
   "source": [
    "def start_DecisionTree():\n",
    "    \"\"\"\n",
    "    test all MLR\n",
    "    \"\"\"\n",
    "    print(\"start DT default\")\n",
    "    DecisionTree_train(name=\"DT_nfeature\")\n",
    "    print(\"start DT max_features = sqrt\")\n",
    "    DecisionTree_train(name=\"DT_sqrt\", max_features=\"sqrt\")"
   ]
  },
  {
   "cell_type": "code",
   "execution_count": 37,
   "id": "45dd6f71",
   "metadata": {},
   "outputs": [
    {
     "name": "stdout",
     "output_type": "stream",
     "text": [
      "start DT default\n",
      "load DT_nfeature model\n",
      "loading complete\n",
      "accuracy on train set is: 0.999\n",
      "accuracy on validation set is: 0.584\n",
      "start DT max_features = sqrt\n",
      "load DT_sqrt model\n",
      "loading complete\n",
      "accuracy on train set is: 0.999\n",
      "accuracy on validation set is: 0.415\n"
     ]
    }
   ],
   "source": [
    "start_DecisionTree()"
   ]
  },
  {
   "cell_type": "code",
   "execution_count": 6,
   "id": "a6e7cc55",
   "metadata": {},
   "outputs": [],
   "source": [
    "from sklearn.ensemble import AdaBoostClassifier\n",
    "from sklearn.tree import DecisionTreeClassifier\n",
    "\n",
    "def DT_AdaBoost_train(name, n_estimators):\n",
    "    train_data_matrix = load_data.to_scipy_sparse_matrix(train_data, len(words_list)+1)\n",
    "    bdt_real = AdaBoostClassifier(\n",
    "        DecisionTreeClassifier(max_depth=2), n_estimators=n_estimators, learning_rate=1\n",
    "    )\n",
    "    \n",
    "    model_path = \"model/SL/\"+name+\".joblib\"\n",
    "    if os.path.exists(model_path):\n",
    "        print(\"load \" + name + \" model\")\n",
    "        bdt_real = load(model_path)\n",
    "        print(\"loading complete\")\n",
    "    else:\n",
    "        print(\"train \" + name + \" model\")\n",
    "        bdt_real.fit(train_data_matrix, train_label)\n",
    "        dump(bdt_real, model_path) \n",
    "        print(\"training complete\")\n",
    "    \n",
    "    train_prediction = bdt_real.predict(train_data_matrix)\n",
    "    train_accuracy = np.sum(train_prediction == train_label) / len(train_label)\n",
    "    print(\"accuracy on train set is: {:.3f}\".format(train_accuracy))\n",
    "    ratio_list = statistic.compare_prediction(train_prediction, train_label)\n",
    "    statistic.save_to_file(name, ratio_list, train_accuracy, map_label.values(), \"train.xlsx\")\n",
    "    \n",
    "    val_data_matrix = load_data.to_scipy_sparse_matrix(val_data, len(words_list)+1)\n",
    "    val_prediction = bdt_real.predict(val_data_matrix)\n",
    "    val_accuracy = np.sum(val_prediction == val_label) / len(val_label)\n",
    "    print(\"accuracy on validation set is: {:.3f}\".format(val_accuracy))\n",
    "    ratio_list = statistic.compare_prediction(val_prediction, val_label)\n",
    "    statistic.save_to_file(name, ratio_list, val_accuracy, map_label.values(), \"validation.xlsx\")\n",
    "    "
   ]
  },
  {
   "cell_type": "code",
   "execution_count": 43,
   "id": "e7881466",
   "metadata": {},
   "outputs": [],
   "source": [
    "def start_DT_AdaBoost():\n",
    "    \"\"\"\n",
    "    test all MLR\n",
    "    \"\"\"\n",
    "    print(\"start AdaBoost n_estimators = 300\")\n",
    "    DT_AdaBoost_train(name=\"AdaBoost_300\", n_estimators=300)\n",
    "    print(\"start AdaBoost n_estimators = 600\")\n",
    "    DT_AdaBoost_train(name=\"AdaBoost_600\", n_estimators=600)\n",
    "    print(\"start AdaBoost n_estimators = 1000\")\n",
    "    DT_AdaBoost_train(name=\"AdaBoost_1000\", n_estimators=1000)"
   ]
  },
  {
   "cell_type": "code",
   "execution_count": 44,
   "id": "496faf4a",
   "metadata": {},
   "outputs": [
    {
     "name": "stdout",
     "output_type": "stream",
     "text": [
      "start AdaBoost n_estimators = 300\n",
      "train AdaBoost_300 model\n",
      "training complete\n",
      "accuracy on train set is: 0.439\n",
      "accuracy on validation set is: 0.375\n",
      "start AdaBoost n_estimators = 600\n",
      "train AdaBoost_600 model\n",
      "training complete\n",
      "accuracy on train set is: 0.432\n",
      "accuracy on validation set is: 0.333\n",
      "start AdaBoost n_estimators = 1000\n",
      "train AdaBoost_1000 model\n",
      "training complete\n",
      "accuracy on train set is: 0.574\n",
      "accuracy on validation set is: 0.425\n"
     ]
    }
   ],
   "source": [
    "start_DT_AdaBoost()"
   ]
  },
  {
   "cell_type": "code",
   "execution_count": 45,
   "id": "7dca63de",
   "metadata": {},
   "outputs": [],
   "source": [
    "from sklearn.ensemble import RandomForestClassifier\n",
    "\n",
    "\n",
    "def RandomForest_train(name, **kwargs):\n",
    "    train_data_matrix = load_data.to_scipy_sparse_matrix(train_data, len(words_list)+1)\n",
    "    rf = RandomForestClassifier(**kwargs)\n",
    "    model_path = \"model/SL/\"+name+\".joblib\"\n",
    "    if os.path.exists(model_path):\n",
    "        print(\"load \" + name + \" model\")\n",
    "        rf = load(model_path)\n",
    "        print(\"loading complete\")\n",
    "    else:\n",
    "        print(\"train \" + name + \" model\")\n",
    "        rf.fit(train_data_matrix, train_label)\n",
    "        dump(rf, model_path) \n",
    "        print(\"training complete\")\n",
    "    \n",
    "    train_prediction = rf.predict(train_data_matrix)\n",
    "    train_accuracy = np.sum(train_prediction == train_label) / len(train_label)\n",
    "    print(\"accuracy on train set is: {:.3f}\".format(train_accuracy))\n",
    "    ratio_list = statistic.compare_prediction(train_prediction, train_label)\n",
    "    statistic.save_to_file(name, ratio_list, train_accuracy, map_label.values(), \"train.xlsx\")\n",
    "    \n",
    "    val_data_matrix = load_data.to_scipy_sparse_matrix(val_data, len(words_list)+1)\n",
    "    val_prediction = rf.predict(val_data_matrix)\n",
    "    val_accuracy = np.sum(val_prediction == val_label) / len(val_label)\n",
    "    print(\"accuracy on validation set is: {:.3f}\".format(val_accuracy))\n",
    "    ratio_list = statistic.compare_prediction(val_prediction, val_label)\n",
    "    statistic.save_to_file(name, ratio_list, val_accuracy, map_label.values(), \"validation.xlsx\")\n"
   ]
  },
  {
   "cell_type": "code",
   "execution_count": 46,
   "id": "08a4c958",
   "metadata": {},
   "outputs": [
    {
     "name": "stdout",
     "output_type": "stream",
     "text": [
      "train random_forest model\n",
      "training complete\n",
      "accuracy on train set is: 0.999\n",
      "accuracy on validation set is: 0.799\n"
     ]
    }
   ],
   "source": [
    "RandomForest_train(\"random_forest\")"
   ]
  },
  {
   "cell_type": "markdown",
   "id": "9cd6b3fa",
   "metadata": {},
   "source": [
    "###### 6. multilayer perceptron"
   ]
  },
  {
   "cell_type": "code",
   "execution_count": 7,
   "id": "03f69f09",
   "metadata": {},
   "outputs": [],
   "source": [
    "from sklearn.neural_network import MLPClassifier\n",
    "\n",
    "    \n",
    "def MLP_train(name, **kwargs):\n",
    "    train_data_matrix = load_data.to_scipy_sparse_matrix(train_data, len(words_list)+1)\n",
    "    mlp = MLPClassifier(**kwargs)\n",
    "    model_path = \"model/SL/\"+name+\".joblib\"\n",
    "    if os.path.exists(model_path):\n",
    "        print(\"load \" + name + \" model\")\n",
    "        mlp = load(model_path)\n",
    "        print(\"loading complete\")\n",
    "    else:\n",
    "        print(\"train \" + name + \" model\")\n",
    "        mlp.fit(train_data_matrix, train_label)\n",
    "        dump(mlp, model_path) \n",
    "        print(\"training complete\")\n",
    "        \n",
    "    train_prediction = mlp.predict(train_data_matrix)\n",
    "    train_accuracy = np.sum(train_prediction == train_label) / len(train_label)\n",
    "    print(\"accuracy on train set is: {:.3f}\".format(train_accuracy))\n",
    "    ratio_list = statistic.compare_prediction(train_prediction, train_label)\n",
    "    statistic.save_to_file(name, ratio_list, train_accuracy, map_label.values(), \"train.xlsx\")\n",
    "    \n",
    "    val_data_matrix = load_data.to_scipy_sparse_matrix(val_data, len(words_list)+1)\n",
    "    val_prediction = mlp.predict(val_data_matrix)\n",
    "    val_accuracy = np.sum(val_prediction == val_label) / len(val_label)\n",
    "    print(\"accuracy on validation set is: {:.3f}\".format(val_accuracy))\n",
    "    ratio_list = statistic.compare_prediction(val_prediction, val_label)\n",
    "    statistic.save_to_file(name, ratio_list, val_accuracy, map_label.values(), \"validation.xlsx\")"
   ]
  },
  {
   "cell_type": "code",
   "execution_count": 50,
   "id": "7c8dc89b",
   "metadata": {},
   "outputs": [],
   "source": [
    "def start_MLP():\n",
    "    \"\"\"\n",
    "    test all MLR\n",
    "    \"\"\"\n",
    "    print(\"MLP_train for no hidden layer\")\n",
    "    MLP_train(name=\"MLP_no_hidden\", hidden_layer_sizes=set(), max_iter=100)\n",
    "    print(\"MLP_train for hidden layer 100\")\n",
    "    MLP_train(name=\"MLP_100\", max_iter=100)\n",
    "    print(\"MLP_train for hidden layer 256\")\n",
    "    MLP_train(name=\"MLP_256\", hidden_layer_sizes=(256, ), max_iter=100)\n"
   ]
  },
  {
   "cell_type": "code",
   "execution_count": 51,
   "id": "52b730ba",
   "metadata": {
    "scrolled": true
   },
   "outputs": [
    {
     "name": "stdout",
     "output_type": "stream",
     "text": [
      "MLP_train for no hidden layer\n",
      "train MLP_no_hidden model\n"
     ]
    },
    {
     "name": "stderr",
     "output_type": "stream",
     "text": [
      "D:\\programming\\Python\\lib\\site-packages\\sklearn\\neural_network\\_multilayer_perceptron.py:702: ConvergenceWarning: Stochastic Optimizer: Maximum iterations (100) reached and the optimization hasn't converged yet.\n",
      "  warnings.warn(\n"
     ]
    },
    {
     "name": "stdout",
     "output_type": "stream",
     "text": [
      "training complete\n",
      "accuracy on train set is: 0.999\n",
      "accuracy on validation set is: 0.867\n",
      "MLP_train for hidden layer 100\n",
      "train MLP_100 model\n",
      "training complete\n",
      "accuracy on train set is: 0.999\n",
      "accuracy on validation set is: 0.865\n",
      "MLP_train for hidden layer 256\n",
      "train MLP_256 model\n",
      "training complete\n",
      "accuracy on train set is: 0.999\n",
      "accuracy on validation set is: 0.877\n"
     ]
    }
   ],
   "source": [
    "start_MLP()"
   ]
  },
  {
   "cell_type": "markdown",
   "id": "b0a3f099",
   "metadata": {},
   "source": [
    "###### statistic for the result"
   ]
  },
  {
   "cell_type": "code",
   "execution_count": 52,
   "id": "306660a2",
   "metadata": {},
   "outputs": [],
   "source": [
    "import matplotlib.pyplot as plt"
   ]
  },
  {
   "cell_type": "code",
   "execution_count": 56,
   "id": "a146f5dd",
   "metadata": {},
   "outputs": [],
   "source": [
    "train_result = pd.read_excel(\"train.xlsx\")\n",
    "sum_train_result = train_result[[\"method\", \"sum\"]].to_numpy()\n",
    "\n",
    "validation_result = pd.read_excel(\"validation.xlsx\")\n",
    "sum_validation_result = train_result[[\"method\", \"sum\"]].to_numpy()\n",
    "\n",
    "sort_index = np.lexsort((sum_validation_result[:,1],))\n",
    "sum_train_result = sum_train_result[sort_index]\n",
    "sum_validation_result = sum_validation_result[sort_index]"
   ]
  },
  {
   "cell_type": "code",
   "execution_count": 54,
   "id": "f832856e",
   "metadata": {},
   "outputs": [
    {
     "data": {
      "image/png": "[encoded data removed]",
      "text/plain": [
       "<Figure size 720x720 with 1 Axes>"
      ]
     },
     "metadata": {
      "needs_background": "light"
     },
     "output_type": "display_data"
    }
   ],
   "source": [
    "label = sum_train_result[:,0]\n",
    "accuracy_train = sum_train_result[:,1]\n",
    "accuracy_validation = sum_validation_result[:,1]\n",
    "\n",
    "\n",
    "plt.figure(figsize=(10,10))\n",
    "plt.barh(label, accuracy_train, color=\"b\", align=\"center\")\n",
    "plt.barh(label, accuracy_validation, color=\"r\", align=\"center\")\n",
    "plt.show()"
   ]
  },
  {
   "cell_type": "markdown",
   "id": "21256d30",
   "metadata": {},
   "source": [
    "###### final test on the test set"
   ]
  },
  {
   "cell_type": "markdown",
   "id": "4ce3c72f",
   "metadata": {},
   "source": [
    "base line - trivial"
   ]
  },
  {
   "cell_type": "code",
   "execution_count": 217,
   "id": "768abfa9",
   "metadata": {},
   "outputs": [
    {
     "name": "stdout",
     "output_type": "stream",
     "text": [
      "accuracy on train set is: 0.053\n",
      "accuracy on test set is: 0.053\n"
     ]
    }
   ],
   "source": [
    "def baseline_final(name):\n",
    "    label_number = list()\n",
    "    for i in range(1, 21):\n",
    "        label_number.append(np.sum(i == origin_test_label))\n",
    "    predict_label = np.argmax(label_number) + 1\n",
    "    train_prediction = np.ones(shape=(len(origin_train_data))) * predict_label\n",
    "    \n",
    "    train_accuracy = np.sum(train_prediction == origin_train_label) / len(origin_train_label)\n",
    "    print(\"accuracy on train set is: {:.3f}\".format(train_accuracy))\n",
    "    ratio_list = statistic.compare_prediction(train_prediction, origin_train_label)\n",
    "    statistic.save_to_file(name, ratio_list, train_accuracy, map_label.values(), \"train_final.xlsx\")\n",
    "    \n",
    "    test_prediction = np.ones(shape=(len(origin_test_data))) * predict_label\n",
    "    test_accuracy = np.sum(test_prediction == origin_test_label) / len(origin_test_label)\n",
    "    print(\"accuracy on test set is: {:.3f}\".format(test_accuracy))\n",
    "    ratio_list = statistic.compare_prediction(test_prediction, origin_test_label)\n",
    "    statistic.save_to_file(name, ratio_list, test_accuracy, map_label.values(), \"test_final.xlsx\")\n",
    "\n",
    "baseline_final(\"trivial\")"
   ]
  },
  {
   "cell_type": "markdown",
   "id": "909378d6",
   "metadata": {},
   "source": [
    "base line - non trivial - SVM"
   ]
  },
  {
   "cell_type": "code",
   "execution_count": 57,
   "id": "ad560697",
   "metadata": {},
   "outputs": [
    {
     "name": "stdout",
     "output_type": "stream",
     "text": [
      "train final_SVM_trivial model\n",
      "training complete\n",
      "accuracy on train set is: 0.999\n",
      "accuracy on test set is: 0.629\n"
     ]
    }
   ],
   "source": [
    "from sklearn.svm import SVC\n",
    "\n",
    "def SVM_final(name):\n",
    "    train_data_matrix = load_data.to_scipy_sparse_matrix(origin_train_data, len(words_list)+1)\n",
    "    svc = SVC(kernel=\"linear\")\n",
    "    model_path = \"model/SL/\"+name+\".joblib\"\n",
    "    if os.path.exists(model_path):\n",
    "        print(\"load \" + name + \" model\")\n",
    "        svc = load(model_path)\n",
    "        print(\"loading complete\")\n",
    "    else:\n",
    "        print(\"train \" + name + \" model\")\n",
    "        svc.fit(train_data_matrix, origin_train_label)\n",
    "        dump(svc, model_path) \n",
    "        print(\"training complete\")\n",
    "        \n",
    "    train_prediction = svc.predict(train_data_matrix)\n",
    "    train_accuracy = np.sum(train_prediction == origin_train_label) / len(origin_train_label)\n",
    "    print(\"accuracy on train set is: {:.3f}\".format(train_accuracy))\n",
    "    ratio_list = statistic.compare_prediction(train_prediction, origin_train_label)\n",
    "    statistic.save_to_file(name, ratio_list, train_accuracy, map_label.values(), \"train_final.xlsx\")\n",
    "    \n",
    "    test_data_matrix = load_data.to_scipy_sparse_matrix(origin_test_data, len(words_list)+1)\n",
    "    test_prediction = svc.predict(test_data_matrix)\n",
    "    test_accuracy = np.sum(test_prediction == origin_test_label) / len(origin_test_label)\n",
    "    print(\"accuracy on test set is: {:.3f}\".format(test_accuracy))\n",
    "    ratio_list = statistic.compare_prediction(test_prediction, origin_test_label)\n",
    "    statistic.save_to_file(name, ratio_list, test_accuracy, map_label.values(), \"test_final.xlsx\")\n",
    "\n",
    "SVM_final(\"final_SVM_trivial\")"
   ]
  },
  {
   "cell_type": "markdown",
   "id": "6b946732",
   "metadata": {},
   "source": [
    "final model - MLP with 100 node hidden layer"
   ]
  },
  {
   "cell_type": "code",
   "execution_count": 10,
   "id": "5b277993",
   "metadata": {},
   "outputs": [
    {
     "name": "stdout",
     "output_type": "stream",
     "text": [
      "load final_MLP model\n",
      "loading complete\n",
      "accuracy on train set is: 0.999\n",
      "accuracy on test set is: 0.761\n"
     ]
    }
   ],
   "source": [
    "def MLP_final(name):\n",
    "    train_data_matrix = load_data.to_scipy_sparse_matrix(origin_train_data, len(words_list)+1)\n",
    "    mlp = MLPClassifier(hidden_layer_sizes=set(), max_iter=100)\n",
    "    model_path = \"model/SL/\"+name+\".joblib\"\n",
    "    if os.path.exists(model_path):\n",
    "        print(\"load \" + name + \" model\")\n",
    "        mlp = load(model_path)\n",
    "        print(\"loading complete\")\n",
    "    else:\n",
    "        print(\"train \" + name + \" model\")\n",
    "        mlp.fit(train_data_matrix, origin_train_label)\n",
    "        dump(mlp, model_path) \n",
    "        print(\"training complete\")\n",
    "    \n",
    "    train_prediction = mlp.predict(train_data_matrix)\n",
    "    train_accuracy = np.sum(train_prediction == origin_train_label) / len(origin_train_label)\n",
    "    print(\"accuracy on train set is: {:.3f}\".format(train_accuracy))\n",
    "    ratio_list = statistic.compare_prediction(train_prediction, origin_train_label)\n",
    "    statistic.save_to_file(name, ratio_list, train_accuracy, map_label.values(), \"train_final.xlsx\")\n",
    "    \n",
    "    test_data_matrix = load_data.to_scipy_sparse_matrix(origin_test_data, len(words_list)+1)\n",
    "    test_prediction = mlp.predict(test_data_matrix)\n",
    "    test_accuracy = np.sum(test_prediction == origin_test_label) / len(origin_test_label)\n",
    "    print(\"accuracy on test set is: {:.3f}\".format(test_accuracy))\n",
    "    ratio_list = statistic.compare_prediction(test_prediction, origin_test_label)\n",
    "    statistic.save_to_file(name, ratio_list, test_accuracy, map_label.values(), \"test_final.xlsx\")\n",
    "\n",
    "MLP_final(\"final_MLP\")"
   ]
  },
  {
   "cell_type": "markdown",
   "id": "e1272e32",
   "metadata": {},
   "source": [
    "###### generalization bound"
   ]
  },
  {
   "cell_type": "code",
   "execution_count": 231,
   "id": "bd438ea8",
   "metadata": {},
   "outputs": [
    {
     "name": "stdout",
     "output_type": "stream",
     "text": [
      "validation error bound is 0.023\n"
     ]
    }
   ],
   "source": [
    "N = train_data.shape[0]\n",
    "delta = 0.1\n",
    "C = 20\n",
    "M = 24\n",
    "\n",
    "validation_error_bound = np.sqrt(1/2/N * np.log(2*C*M/delta))\n",
    "print(\"validation error bound is {:.3f}\".format(validation_error_bound))"
   ]
  },
  {
   "cell_type": "code",
   "execution_count": 232,
   "id": "6d551558",
   "metadata": {},
   "outputs": [
    {
     "name": "stdout",
     "output_type": "stream",
     "text": [
      "test error bound is 0.016\n"
     ]
    }
   ],
   "source": [
    "N = origin_train_label.shape[0]\n",
    "delta = 0.1\n",
    "C = 20\n",
    "M = 1\n",
    "\n",
    "test_error_bound = np.sqrt(1/2/N * np.log(2*C*M/delta))\n",
    "print(\"test error bound is {:.3f}\".format(test_error_bound))"
   ]
  }
 ],
 "metadata": {
  "kernelspec": {
   "display_name": "Python 3 (ipykernel)",
   "language": "python",
   "name": "python3"
  },
  "language_info": {
   "codemirror_mode": {
    "name": "ipython",
    "version": 3
   },
   "file_extension": ".py",
   "mimetype": "text/x-python",
   "name": "python",
   "nbconvert_exporter": "python",
   "pygments_lexer": "ipython3",
   "version": "3.10.6"
  }
 },
 "nbformat": 4,
 "nbformat_minor": 5
}
